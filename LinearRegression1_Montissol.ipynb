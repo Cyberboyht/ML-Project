{
 "cells": [
  {
   "cell_type": "code",
   "execution_count": 210,
   "id": "689e54b8",
   "metadata": {},
   "outputs": [],
   "source": [
    "import numpy as np\n",
    "from sklearn.datasets import make_regression\n",
    "import matplotlib.pyplot as plt\n"
   ]
  },
  {
   "cell_type": "code",
   "execution_count": 211,
   "id": "cb006224",
   "metadata": {},
   "outputs": [
    {
     "data": {
      "text/plain": [
       "<matplotlib.collections.PathCollection at 0x279c5a80af0>"
      ]
     },
     "execution_count": 211,
     "metadata": {},
     "output_type": "execute_result"
    },
    {
     "data": {
      "image/png": "[encoded data removed]",
      "text/plain": [
       "<Figure size 432x288 with 1 Axes>"
      ]
     },
     "metadata": {
      "needs_background": "light"
     },
     "output_type": "display_data"
    }
   ],
   "source": [
    "np.random.seed(0)\n",
    "x, y =make_regression(n_samples=200, n_features=1, noise=10)\n",
    "plt.scatter (x,y)"
   ]
  },
  {
   "cell_type": "code",
   "execution_count": 212,
   "id": "599caf69",
   "metadata": {},
   "outputs": [
    {
     "name": "stdout",
     "output_type": "stream",
     "text": [
      "(100, 1)\n",
      "(100, 1)\n"
     ]
    }
   ],
   "source": [
    "print(x.shape)\n",
    "y=y.reshape(y.shape[0],1)\n",
    "print(y.shape)"
   ]
  },
  {
   "cell_type": "code",
   "execution_count": 213,
   "id": "1f4f7092",
   "metadata": {},
   "outputs": [],
   "source": [
    "#My Matrice X"
   ]
  },
  {
   "cell_type": "code",
   "execution_count": 214,
   "id": "4aa19d4e",
   "metadata": {},
   "outputs": [
    {
     "data": {
      "text/plain": [
       "array([[-0.35955316,  1.        ],\n",
       "       [ 0.97663904,  1.        ],\n",
       "       [ 0.40234164,  1.        ],\n",
       "       [-0.81314628,  1.        ],\n",
       "       [-0.88778575,  1.        ],\n",
       "       [ 0.44386323,  1.        ],\n",
       "       [-0.97727788,  1.        ],\n",
       "       [ 0.42833187,  1.        ],\n",
       "       [ 0.20827498,  1.        ],\n",
       "       [-0.31155253,  1.        ],\n",
       "       [-0.51080514,  1.        ],\n",
       "       [ 0.12691209,  1.        ],\n",
       "       [-1.53624369,  1.        ],\n",
       "       [-0.40178094,  1.        ],\n",
       "       [ 0.6536186 ,  1.        ],\n",
       "       [ 1.17877957,  1.        ],\n",
       "       [-0.17992484,  1.        ],\n",
       "       [ 1.78587049,  1.        ],\n",
       "       [ 1.45427351,  1.        ],\n",
       "       [-0.68481009,  1.        ],\n",
       "       [ 0.97873798,  1.        ],\n",
       "       [ 1.89588918,  1.        ],\n",
       "       [-0.4380743 ,  1.        ],\n",
       "       [ 0.3130677 ,  1.        ],\n",
       "       [ 0.76103773,  1.        ],\n",
       "       [ 0.77749036,  1.        ],\n",
       "       [ 1.9507754 ,  1.        ],\n",
       "       [ 0.33367433,  1.        ],\n",
       "       [-0.34791215,  1.        ],\n",
       "       [ 1.53277921,  1.        ],\n",
       "       [-0.89546656,  1.        ],\n",
       "       [-0.57884966,  1.        ],\n",
       "       [-1.04855297,  1.        ],\n",
       "       [ 0.37816252,  1.        ],\n",
       "       [ 0.01050002,  1.        ],\n",
       "       [ 0.46278226,  1.        ],\n",
       "       [ 0.14404357,  1.        ],\n",
       "       [-0.40317695,  1.        ],\n",
       "       [ 0.0519454 ,  1.        ],\n",
       "       [-1.25279536,  1.        ],\n",
       "       [ 1.05445173,  1.        ],\n",
       "       [ 0.40015721,  1.        ],\n",
       "       [-1.70627019,  1.        ],\n",
       "       [ 2.2408932 ,  1.        ],\n",
       "       [ 0.17742614,  1.        ],\n",
       "       [-0.20515826,  1.        ],\n",
       "       [ 1.23029068,  1.        ],\n",
       "       [-0.85409574,  1.        ],\n",
       "       [ 1.76405235,  1.        ],\n",
       "       [ 0.4105985 ,  1.        ],\n",
       "       [-0.90729836,  1.        ],\n",
       "       [-1.42001794,  1.        ],\n",
       "       [ 0.46566244,  1.        ],\n",
       "       [ 0.90082649,  1.        ],\n",
       "       [ 1.13940068,  1.        ],\n",
       "       [ 0.40198936,  1.        ],\n",
       "       [ 0.3869025 ,  1.        ],\n",
       "       [-1.7262826 ,  1.        ],\n",
       "       [ 1.46935877,  1.        ],\n",
       "       [-0.18718385,  1.        ],\n",
       "       [-0.87079715,  1.        ],\n",
       "       [ 0.3024719 ,  1.        ],\n",
       "       [ 1.20237985,  1.        ],\n",
       "       [-1.98079647,  1.        ],\n",
       "       [-2.55298982,  1.        ],\n",
       "       [-1.45436567,  1.        ],\n",
       "       [-0.02818223,  1.        ],\n",
       "       [ 0.15494743,  1.        ],\n",
       "       [ 1.22244507,  1.        ],\n",
       "       [ 1.86755799,  1.        ],\n",
       "       [ 2.26975462,  1.        ],\n",
       "       [-0.74216502,  1.        ],\n",
       "       [ 0.06651722,  1.        ],\n",
       "       [ 1.49407907,  1.        ],\n",
       "       [-0.67246045,  1.        ],\n",
       "       [-1.63019835,  1.        ],\n",
       "       [ 0.12898291,  1.        ],\n",
       "       [ 0.95008842,  1.        ],\n",
       "       [ 1.48825219,  1.        ],\n",
       "       [ 0.05616534,  1.        ],\n",
       "       [ 0.8644362 ,  1.        ],\n",
       "       [ 0.70657317,  1.        ],\n",
       "       [-0.15135721,  1.        ],\n",
       "       [-1.07075262,  1.        ],\n",
       "       [-0.10321885,  1.        ],\n",
       "       [-0.30230275,  1.        ],\n",
       "       [-0.38732682,  1.        ],\n",
       "       [ 0.72909056,  1.        ],\n",
       "       [ 0.12167502,  1.        ],\n",
       "       [-0.50965218,  1.        ],\n",
       "       [-1.23482582,  1.        ],\n",
       "       [-0.21274028,  1.        ],\n",
       "       [-0.63432209,  1.        ],\n",
       "       [ 0.15634897,  1.        ],\n",
       "       [ 0.04575852,  1.        ],\n",
       "       [-1.16514984,  1.        ],\n",
       "       [-0.36274117,  1.        ],\n",
       "       [ 0.3563664 ,  1.        ],\n",
       "       [-1.61389785,  1.        ],\n",
       "       [-1.18063218,  1.        ]])"
      ]
     },
     "execution_count": 214,
     "metadata": {},
     "output_type": "execute_result"
    }
   ],
   "source": [
    "X=np.hstack((x,np.ones(x.shape)))\n",
    "X"
   ]
  },
  {
   "cell_type": "code",
   "execution_count": 215,
   "id": "74a8bc9f",
   "metadata": {},
   "outputs": [
    {
     "data": {
      "text/plain": [
       "array([[1.76405235],\n",
       "       [0.40015721]])"
      ]
     },
     "execution_count": 215,
     "metadata": {},
     "output_type": "execute_result"
    }
   ],
   "source": [
    "np.random.seed(0)\n",
    "theta=np.random.randn(2,1)\n",
    "theta"
   ]
  },
  {
   "cell_type": "code",
   "execution_count": 216,
   "id": "360e23aa",
   "metadata": {},
   "outputs": [],
   "source": [
    "#My Modal"
   ]
  },
  {
   "cell_type": "code",
   "execution_count": 217,
   "id": "ec2d2133",
   "metadata": {},
   "outputs": [],
   "source": [
    "def modal(X,theta):\n",
    "    return X.dot(theta)"
   ]
  },
  {
   "cell_type": "code",
   "execution_count": 218,
   "id": "145fec22",
   "metadata": {},
   "outputs": [
    {
     "data": {
      "text/plain": [
       "[<matplotlib.lines.Line2D at 0x279c5d35d60>]"
      ]
     },
     "execution_count": 218,
     "metadata": {},
     "output_type": "execute_result"
    },
    {
     "data": {
      "image/png": "[encoded data removed]",
      "text/plain": [
       "<Figure size 432x288 with 1 Axes>"
      ]
     },
     "metadata": {
      "needs_background": "light"
     },
     "output_type": "display_data"
    }
   ],
   "source": [
    "#Test Modal\n",
    "plt.scatter(x,y)\n",
    "plt.plot(x,modal(X,theta),c=\"r\")\n"
   ]
  },
  {
   "cell_type": "code",
   "execution_count": 219,
   "id": "d3d8f968",
   "metadata": {},
   "outputs": [],
   "source": [
    "#Function Cout"
   ]
  },
  {
   "cell_type": "code",
   "execution_count": 220,
   "id": "01462bbb",
   "metadata": {},
   "outputs": [],
   "source": [
    "def cost_function(x,y,theta):\n",
    "    m=len(y)\n",
    "    return 1/(2*m) * np.sum((modal(X,theta) - y)**2)\n"
   ]
  },
  {
   "cell_type": "code",
   "execution_count": 221,
   "id": "cdcc11fb",
   "metadata": {},
   "outputs": [
    {
     "data": {
      "text/plain": [
       "905.6306841935502"
      ]
     },
     "execution_count": 221,
     "metadata": {},
     "output_type": "execute_result"
    }
   ],
   "source": [
    "#Test Function\n",
    "cost_function(X,y,theta)"
   ]
  },
  {
   "cell_type": "code",
   "execution_count": 222,
   "id": "0e6df047",
   "metadata": {},
   "outputs": [],
   "source": [
    "#Gradient and Descent Gradient"
   ]
  },
  {
   "cell_type": "code",
   "execution_count": 253,
   "id": "f5eaf777",
   "metadata": {},
   "outputs": [],
   "source": [
    "np.random.seed(0)\n",
    "def grad(X,y,theta):\n",
    "    m=len(y)\n",
    "    return 1/m * X.T.dot(modal(X,theta) -y)"
   ]
  },
  {
   "cell_type": "code",
   "execution_count": 254,
   "id": "c8a49388",
   "metadata": {},
   "outputs": [
    {
     "data": {
      "text/plain": [
       "array([[-41.57549288],\n",
       "       [ -1.22914004]])"
      ]
     },
     "execution_count": 254,
     "metadata": {},
     "output_type": "execute_result"
    }
   ],
   "source": [
    "#Test Gradient\n",
    "grad (X,y,theta)"
   ]
  },
  {
   "cell_type": "code",
   "execution_count": 255,
   "id": "b38adb26",
   "metadata": {},
   "outputs": [],
   "source": [
    "np.random.seed(0)\n",
    "def gradient_descent(X,y,theta,learning_rate,n_iteraction):\n",
    "    cost_history=np.zeros(n_iteraction)\n",
    "    \n",
    "    for i in range (0,n_iteraction):\n",
    "        theta=theta-learning_rate*grad(X,y,theta)\n",
    "        cost_history[i]=cost_function(X,y,theta)\n",
    "        \n",
    "        return theta,cost_history\n",
    "    "
   ]
  },
  {
   "cell_type": "code",
   "execution_count": 256,
   "id": "f376f11b",
   "metadata": {},
   "outputs": [],
   "source": [
    "#Machine Learning"
   ]
  },
  {
   "cell_type": "code",
   "execution_count": 279,
   "id": "f086e159",
   "metadata": {},
   "outputs": [],
   "source": [
    "np.random.seed(0)\n",
    "theta_final, cost_history=gradient_descent(X,y,theta,learning_rate=1.0,n_iteraction=1000)"
   ]
  },
  {
   "cell_type": "code",
   "execution_count": 280,
   "id": "8f37e03a",
   "metadata": {},
   "outputs": [
    {
     "data": {
      "text/plain": [
       "array([[43.33954523],\n",
       "       [ 1.62929725]])"
      ]
     },
     "execution_count": 280,
     "metadata": {},
     "output_type": "execute_result"
    }
   ],
   "source": [
    "theta_final"
   ]
  },
  {
   "cell_type": "code",
   "execution_count": 281,
   "id": "18b0359d",
   "metadata": {},
   "outputs": [
    {
     "data": {
      "text/plain": [
       "[<matplotlib.lines.Line2D at 0x279c72e0640>]"
      ]
     },
     "execution_count": 281,
     "metadata": {},
     "output_type": "execute_result"
    },
    {
     "data": {
      "image/png": "[encoded data removed]",
      "text/plain": [
       "<Figure size 432x288 with 1 Axes>"
      ]
     },
     "metadata": {
      "needs_background": "light"
     },
     "output_type": "display_data"
    }
   ],
   "source": [
    "np.random.seed(0)\n",
    "prediction=modal(X,theta_final)\n",
    "plt.scatter(x,y)\n",
    "plt.plot(x,prediction, c=\"r\")"
   ]
  },
  {
   "cell_type": "code",
   "execution_count": 282,
   "id": "40e0679a",
   "metadata": {},
   "outputs": [],
   "source": [
    "#Courbe d'Aprentissage"
   ]
  },
  {
   "cell_type": "code",
   "execution_count": 283,
   "id": "10ba07f9",
   "metadata": {},
   "outputs": [
    {
     "data": {
      "text/plain": [
       "[<matplotlib.lines.Line2D at 0x279c7322d90>]"
      ]
     },
     "execution_count": 283,
     "metadata": {},
     "output_type": "execute_result"
    },
    {
     "data": {
      "image/png": "[encoded data removed]",
      "text/plain": [
       "<Figure size 432x288 with 1 Axes>"
      ]
     },
     "metadata": {
      "needs_background": "light"
     },
     "output_type": "display_data"
    }
   ],
   "source": [
    "np.random.seed(0)\n",
    "n_iteraction=1000\n",
    "plt.plot(range(n_iteraction),cost_history)"
   ]
  },
  {
   "cell_type": "code",
   "execution_count": 284,
   "id": "06bdf631",
   "metadata": {},
   "outputs": [],
   "source": [
    "def coef_determination(y,pred):\n",
    "    u=((y-pred)**2).sum()\n",
    "    v=((y-y.mean())**2).sum()\n",
    "    return 1 -u/v"
   ]
  },
  {
   "cell_type": "code",
   "execution_count": 285,
   "id": "b827c915",
   "metadata": {},
   "outputs": [
    {
     "data": {
      "text/plain": [
       "0.938304998606955"
      ]
     },
     "execution_count": 285,
     "metadata": {},
     "output_type": "execute_result"
    }
   ],
   "source": [
    "coef_determination (y,prediction)"
   ]
  },
  {
   "cell_type": "code",
   "execution_count": null,
   "id": "e2d5475b",
   "metadata": {},
   "outputs": [],
   "source": []
  }
 ],
 "metadata": {
  "kernelspec": {
   "display_name": "Python 3.10.6 64-bit (microsoft store)",
   "language": "python",
   "name": "python3"
  },
  "language_info": {
   "codemirror_mode": {
    "name": "ipython",
    "version": 3
   },
   "file_extension": ".py",
   "mimetype": "text/x-python",
   "name": "python",
   "nbconvert_exporter": "python",
   "pygments_lexer": "ipython3",
   "version": "3.10.6"
  },
  "vscode": {
   "interpreter": {
    "hash": "76f82967e30573db59113c87a720956b06f00e935702405e7765f906c5eabdeb"
   }
  }
 },
 "nbformat": 4,
 "nbformat_minor": 5
}
